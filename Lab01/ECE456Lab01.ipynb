{
  "cells": [
    {
      "cell_type": "code",
      "source": [
        "check = 0"
      ],
      "metadata": {
        "id": "uk3cLOhzev6m"
      },
      "execution_count": null,
      "outputs": []
    },
    {
      "cell_type": "code",
      "execution_count": null,
      "metadata": {
        "colab": {
          "base_uri": "https://localhost:8080/"
        },
        "id": "RYyIa0Xt7YBY",
        "outputId": "1e80b921-adc8-4739-fc12-cb799041cb15"
      },
      "outputs": [
        {
          "output_type": "stream",
          "name": "stdout",
          "text": [
            "The input data is even\n",
            "input data length:  12\n",
            "Input data:y(S`Igm&S.^(\n",
            "Input key:1t]*am0t\n"
          ]
        }
      ],
      "source": [
        "#open and read a data file and key file\n",
        "with open('oddchars',encoding='latin-1') as data_file:\n",
        "  contents_data = data_file.read()\n",
        "# check input data if it is odd or even \n",
        "if (len(contents_data)%2 == 0):\n",
        "      print (\"The input data is even\" )\n",
        "      print(\"input data length: \", len(contents_data))\n",
        "      print(\"Input data:\" + contents_data  )\n",
        "else:\n",
        "      check = 1\n",
        "      contents_data = contents_data +'o';\n",
        "      print (\"The input data is odd but add 'o' to make it even\")\n",
        "      print(\"Input data:\" + contents_data  )\n",
        "#open and read key file\n",
        "with open('Keys1','r') as key_file:\n",
        "  contents_key = key_file.read()\n",
        "  print(\"Input key:\" + contents_key)"
      ]
    },
    {
      "cell_type": "code",
      "execution_count": null,
      "metadata": {
        "id": "b3HlMOoW8ZJM",
        "colab": {
          "base_uri": "https://localhost:8080/"
        },
        "outputId": "bdd15824-04b1-4e1b-b9a3-684d594024cb"
      },
      "outputs": [
        {
          "output_type": "stream",
          "name": "stdout",
          "text": [
            "<class 'str'>\n"
          ]
        }
      ],
      "source": [
        "#convert String to hex value\n",
        "def str_to_hex(str):\n",
        "  s = str.encode('latin-1')\n",
        "  return s.hex()\n",
        "\n",
        "#for testing only\n",
        "a =str_to_hex(\"a\")\n",
        "print(type(a))\n"
      ]
    },
    {
      "cell_type": "code",
      "execution_count": null,
      "metadata": {
        "id": "GJIdLPTr8a-C"
      },
      "outputs": [],
      "source": [
        "#convert hex to binary value\n",
        "def hex_to_bin (str):\n",
        "   print(str)\n",
        "   res_bin = format(int(str, 16),\"8b\")\n",
        "   return res_bin\n",
        "#for testing only \n",
        "#hex_to_bin('5a')"
      ]
    },
    {
      "cell_type": "code",
      "execution_count": null,
      "metadata": {
        "id": "GP0GxyHB8dGy"
      },
      "outputs": [],
      "source": [
        "#conver binary value to hex\n",
        "def bin_to_hex (binstr):\n",
        "  res = hex(int(binstr,2))\n",
        "  res_hex = res[2:]\n",
        "\n",
        "  return res_hex\n",
        "\n",
        "#for testing only\n",
        "#bin_to_hex ('01011010')\n",
        "  "
      ]
    },
    {
      "cell_type": "code",
      "execution_count": null,
      "metadata": {
        "id": "_bRFNs6H8mUa"
      },
      "outputs": [],
      "source": [
        "# swap L & R and then do xor between L and key\n",
        "def res_Lxor(L,R,KeyC):\n",
        "  L_prime = R\n",
        "  R_prime = chr(ord(L)^ord(KeyC))\n",
        "  #print(\"L'= \",L_prime)\n",
        "  #print(\"R'= \",R_prime)\n",
        "  return L_prime,R_prime\n",
        "  \n",
        "#for testing only\n",
        "#print(res_Lxor('a','1',';'))\n",
        "#type(res_Lxor('a','1',';'))"
      ]
    },
    {
      "cell_type": "code",
      "execution_count": null,
      "metadata": {
        "id": "7AT0C6ws9QH_"
      },
      "outputs": [],
      "source": [
        "# data: string\n",
        "# key_str: string\n",
        "def en(data,key_str):\n",
        "  if len(data) %2 == 1:\n",
        "    data = data + chr(0)\n",
        "  ans = []\n",
        "  for i in range(0,len(data),2):\n",
        "    tmpL, tmpR = data[i], data[i+1]\n",
        "    for key in key_str:\n",
        "      tmpL,tmpR = res_Lxor(tmpL,tmpR,key)\n",
        "    ans.extend([tmpL,tmpR])\n",
        "  return ''.join(ans)\n",
        "  \n",
        "#for testing only\n",
        "#type(en('a1b=',';lkjhgfd'))"
      ]
    },
    {
      "cell_type": "code",
      "source": [
        "en(\"DON'T PANICo\",'1t]*am0t')"
      ],
      "metadata": {
        "colab": {
          "base_uri": "https://localhost:8080/",
          "height": 35
        },
        "id": "ANH_vRfE5D0X",
        "outputId": "6ebd50ab-9f60-450c-91f6-c309e23e8637"
      },
      "execution_count": null,
      "outputs": [
        {
          "output_type": "execute_result",
          "data": {
            "application/vnd.google.colaboratory.intrinsic+json": {
              "type": "string"
            },
            "text/plain": [
              "'y\\x08s`igm\\x06s\\x0e~('"
            ]
          },
          "metadata": {},
          "execution_count": 90
        }
      ]
    },
    {
      "cell_type": "code",
      "source": [
        "en('y\\x08s`igm\\x06s\\x0e~(','1t]*am0t')"
      ],
      "metadata": {
        "colab": {
          "base_uri": "https://localhost:8080/",
          "height": 35
        },
        "id": "RXuDmp6u5Gx3",
        "outputId": "91fe49b7-5354-4644-e00d-20ac496b256d"
      },
      "execution_count": null,
      "outputs": [
        {
          "output_type": "execute_result",
          "data": {
            "application/vnd.google.colaboratory.intrinsic+json": {
              "type": "string"
            },
            "text/plain": [
              "\"DON'T PANICo\""
            ]
          },
          "metadata": {},
          "execution_count": 91
        }
      ]
    },
    {
      "cell_type": "code",
      "source": [
        "#only for testing \n",
        "#en('a1b=',';lkjhgfd')"
      ],
      "metadata": {
        "id": "NA3AXd9xd6I_"
      },
      "execution_count": null,
      "outputs": []
    },
    {
      "cell_type": "code",
      "source": [
        "contents_data"
      ],
      "metadata": {
        "colab": {
          "base_uri": "https://localhost:8080/",
          "height": 35
        },
        "id": "UJtesbNk7UE_",
        "outputId": "797ad00c-48a5-47ee-d538-e6ede159a92f"
      },
      "execution_count": null,
      "outputs": [
        {
          "output_type": "execute_result",
          "data": {
            "application/vnd.google.colaboratory.intrinsic+json": {
              "type": "string"
            },
            "text/plain": [
              "\"DON'T PANICo\""
            ]
          },
          "metadata": {},
          "execution_count": 122
        }
      ]
    },
    {
      "cell_type": "code",
      "execution_count": null,
      "metadata": {
        "id": "pWiniYZg_Z59",
        "colab": {
          "base_uri": "https://localhost:8080/"
        },
        "outputId": "7129fa79-4303-4dd8-ceb7-2f8443fcb72c"
      },
      "outputs": [
        {
          "output_type": "stream",
          "name": "stdout",
          "text": [
            "Don't Panico\n",
            "446f6e27742050616e69636f\n"
          ]
        }
      ],
      "source": [
        "decryptioin_input = en(contents_data,contents_key)\n",
        "print(decryptioin_input)\n",
        "print(str_to_hex(decryptioin_input))\n",
        "\n",
        " # Writing data to a file\n",
        "if (check ==1):\n",
        "  with open('oddchars','w',encoding='latin-1') as data_file:\n",
        "     data_file.writelines(decryptioin_input)\n",
        "else:\n",
        "  with open('oddchars','w',encoding='latin-1') as data_file:\n",
        "     data_file.writelines(decryptioin_input)\n"
      ]
    },
    {
      "cell_type": "code",
      "execution_count": null,
      "metadata": {
        "id": "LPdg0-b79emH"
      },
      "outputs": [],
      "source": [
        "#result of R xor key, L' and R'\n",
        "def res_Rxor(L,R,KeyC):\n",
        "  L_prime = chr(ord(R)^ord(KeyC))\n",
        "  R_prime = L\n",
        " # print(\"L'= \",L_prime)\n",
        " #print(\"R'= \",R_prime)\n",
        "  return L_prime,R_prime\n"
      ]
    },
    {
      "cell_type": "code",
      "source": [],
      "metadata": {
        "id": "a_z_gmad3Em_"
      },
      "execution_count": null,
      "outputs": []
    },
    {
      "cell_type": "code",
      "execution_count": null,
      "metadata": {
        "id": "FStNYAnC-Bw3"
      },
      "outputs": [],
      "source": [
        "#decrption \n",
        "# def de(data,key_str):\n",
        "#   if len(data) %2 == 1:\n",
        "#     data = data + chr(0)\n",
        "#   ans = []\n",
        "#   #for i in range(len(data)-1,-1,-2):\n",
        "#   for i in range(0,len(data),2):\n",
        "#     tmpL, tmpR = data[i], data[i+1]\n",
        "#     for key in key_str:\n",
        "#       tmpL,tmpR = res_Rxor(tmpL,tmpR,key)\n",
        "#     ans.extend([tmpL,tmpR])\n",
        "#   return ''.join(ans)\n",
        "def de(data,key_str):\n",
        "  if len(data) %2 == 1:\n",
        "    data = data + chr(0)\n",
        "  ans = []\n",
        "  for i in range(0,len(data),2):\n",
        "    tmpL, tmpR = data[i], data[i+1]\n",
        "    for key in key_str:\n",
        "      tmpL,tmpR = res_Lxor(tmpL,tmpR,key)\n",
        "    ans.extend([tmpL,tmpR])\n",
        "  return ''.join(ans)\n",
        "  "
      ]
    },
    {
      "cell_type": "code",
      "source": [
        "135 ^ 247 ^ 368 ^ 136 ^ 247"
      ],
      "metadata": {
        "colab": {
          "base_uri": "https://localhost:8080/"
        },
        "id": "tQGGbjKK2PAH",
        "outputId": "51465b30-002e-44a2-8eff-8640ccd27055"
      },
      "execution_count": null,
      "outputs": [
        {
          "output_type": "execute_result",
          "data": {
            "text/plain": [
              "383"
            ]
          },
          "metadata": {},
          "execution_count": 96
        }
      ]
    },
    {
      "cell_type": "code",
      "source": [
        "135 ^ 368 ^ 136"
      ],
      "metadata": {
        "colab": {
          "base_uri": "https://localhost:8080/"
        },
        "id": "YbD4ZpAd2V00",
        "outputId": "533bfeda-a637-4096-99d6-28f72325b45c"
      },
      "execution_count": null,
      "outputs": [
        {
          "output_type": "execute_result",
          "data": {
            "text/plain": [
              "383"
            ]
          },
          "metadata": {},
          "execution_count": 97
        }
      ]
    },
    {
      "cell_type": "code",
      "source": [
        "decryptioin_input"
      ],
      "metadata": {
        "colab": {
          "base_uri": "https://localhost:8080/",
          "height": 35
        },
        "id": "WNVH4C4V7YEi",
        "outputId": "bc8650ac-d697-4951-d4a3-ae8c9507e30b"
      },
      "execution_count": null,
      "outputs": [
        {
          "output_type": "execute_result",
          "data": {
            "application/vnd.google.colaboratory.intrinsic+json": {
              "type": "string"
            },
            "text/plain": [
              "'y\\x08s`igm\\x06s\\x0e~('"
            ]
          },
          "metadata": {},
          "execution_count": 128
        }
      ]
    },
    {
      "cell_type": "code",
      "source": [
        "contents_key"
      ],
      "metadata": {
        "colab": {
          "base_uri": "https://localhost:8080/",
          "height": 35
        },
        "id": "BSPHctwD7bjY",
        "outputId": "6a0cbafe-b9fe-44f3-d44a-3e2fe00ea10c"
      },
      "execution_count": null,
      "outputs": [
        {
          "output_type": "execute_result",
          "data": {
            "application/vnd.google.colaboratory.intrinsic+json": {
              "type": "string"
            },
            "text/plain": [
              "'1t]*am0t'"
            ]
          },
          "metadata": {},
          "execution_count": 129
        }
      ]
    },
    {
      "cell_type": "code",
      "source": [
        "en(decryptioin_input,contents_key)"
      ],
      "metadata": {
        "colab": {
          "base_uri": "https://localhost:8080/",
          "height": 35
        },
        "id": "RQvmjmqH7euV",
        "outputId": "501cb49d-dbcf-4510-c4da-f72620469765"
      },
      "execution_count": null,
      "outputs": [
        {
          "output_type": "execute_result",
          "data": {
            "application/vnd.google.colaboratory.intrinsic+json": {
              "type": "string"
            },
            "text/plain": [
              "\"DON'T PANICo\""
            ]
          },
          "metadata": {},
          "execution_count": 132
        }
      ]
    },
    {
      "cell_type": "code",
      "execution_count": null,
      "metadata": {
        "colab": {
          "base_uri": "https://localhost:8080/"
        },
        "id": "BD9PNXRY-g6T",
        "outputId": "88ec42ac-5c35-46ad-b344-892b8fb76509"
      },
      "outputs": [
        {
          "output_type": "stream",
          "name": "stdout",
          "text": [
            "y\bs`igm\u0006s\u000e~(\n",
            "DON'T PANICo\n"
          ]
        }
      ],
      "source": [
        "#calling function of decrption from the result of encrption\n",
        "d = en(decryptioin_input,contents_key)\n",
        "print(decryptioin_input)\n",
        "print(d)\n",
        "# final_output = d[::-1]\n",
        "# if(check==1):\n",
        "#   print(\"Final Decryption output:\",final_output[:-1])\n",
        "# else:\n",
        "#   print(\"Final Decryption output:\",final_output)\n",
        "\n",
        "\n"
      ]
    },
    {
      "cell_type": "code",
      "source": [
        "# # Writing data to a file\n",
        "# if (check ==1):\n",
        "#   with open('oddchars','w',encoding='latin-1') as data_file: \n",
        "#      data_file.writelines(final_output[:-1])\n",
        "# else:\n",
        "#   with open('oddchars','w',encoding='latin-1') as data_file:\n",
        "#      data_file.writelines(final_output)\n",
        "\n",
        "\n",
        "    "
      ],
      "metadata": {
        "id": "9bBvttdNLs7r"
      },
      "execution_count": null,
      "outputs": []
    },
    {
      "cell_type": "code",
      "source": [],
      "metadata": {
        "id": "dO7qbIbHMox5"
      },
      "execution_count": null,
      "outputs": []
    }
  ],
  "metadata": {
    "colab": {
      "provenance": []
    },
    "kernelspec": {
      "display_name": "Python 3",
      "name": "python3"
    },
    "language_info": {
      "name": "python"
    }
  },
  "nbformat": 4,
  "nbformat_minor": 0
}